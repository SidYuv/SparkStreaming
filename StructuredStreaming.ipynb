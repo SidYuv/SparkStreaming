{
 "cells": [
  {
   "cell_type": "code",
   "execution_count": 1,
   "id": "29da4b00-c6a9-409b-8ca6-52290085fd18",
   "metadata": {},
   "outputs": [],
   "source": [
    "from pyspark.sql import SparkSession"
   ]
  },
  {
   "cell_type": "code",
   "execution_count": 2,
   "id": "2aa3e9df-9542-4dc1-9a4f-a699d7ea73ce",
   "metadata": {},
   "outputs": [],
   "source": [
    "spark = SparkSession.builder.master('local[*]').appName('traffic-streaming') \\\n",
    "            .config(\"spark.jars.packages\", \"org.apache.spark:spark-sql-kafka-0-10_2.12:3.3.0\") \\\n",
    "                .config('spark.jars','/home/jovyan/new_stream/jar/mysql-connector-j-9.3.0.jar') \\\n",
    "                    .getOrCreate()"
   ]
  },
  {
   "cell_type": "code",
   "execution_count": 3,
   "id": "ee06c925-2c0d-470c-a319-95ee8149e285",
   "metadata": {},
   "outputs": [],
   "source": [
    "df = (spark\n",
    "        .readStream\n",
    "          .format('kafka')\n",
    "            .option('kafka.bootstrap.servers','ed-kafka:29092')\n",
    "              .option('Subscribe','trafic-data')\n",
    "                .option('startingOffset','earliest')\n",
    "                  .load()\n",
    "     )"
   ]
  },
  {
   "cell_type": "code",
   "execution_count": 4,
   "id": "8388b28e-8fc7-4c91-a92f-1178f11f7d40",
   "metadata": {},
   "outputs": [],
   "source": [
    "from pyspark.sql.types import StructType,MapType,ArrayType,IntegerType,StringType,DecimalType,StructField,TimestampType,DoubleType\n",
    "\n",
    "schema = StructType([\n",
    "    StructField(\"vehicle_id\", StringType(),False),\n",
    "    StructField(\"timestamp\", StringType(),False),\n",
    "    StructField(\"speed_kmh\", IntegerType(),True),\n",
    "    StructField(\"recent_speeds\", ArrayType(IntegerType()),True),\n",
    "    StructField(\"location\", StructType([\n",
    "        StructField(\"lat\", DoubleType(),True),\n",
    "        StructField(\"lon\", DoubleType(),True)\n",
    "    ]),True),\n",
    "    StructField(\"road_id\", StringType(),True),\n",
    "    StructField(\"nearby_sensors\", ArrayType(\n",
    "        StructType([\n",
    "            StructField(\"sensor_id\", StringType(),True),\n",
    "            StructField(\"signal_strength\", IntegerType(),True)\n",
    "        ])\n",
    "    ),True)\n",
    "])\n"
   ]
  },
  {
   "cell_type": "code",
   "execution_count": 5,
   "id": "0b8197e7-846c-4c6f-b415-c68d55333c62",
   "metadata": {},
   "outputs": [],
   "source": [
    "from pyspark.sql.functions import from_json,explode,col\n",
    "\n",
    "df_extracted = df.withColumn('value',from_json(col('value').cast('string'),schema)).select('value.*')"
   ]
  },
  {
   "cell_type": "code",
   "execution_count": 6,
   "id": "a8a6c8a2-6cf0-4855-9481-16a3fa9e9195",
   "metadata": {},
   "outputs": [],
   "source": [
    "df_extracted = df_extracted.withColumn('nearby_sensors',explode(col('nearby_sensors'))).select('*','nearby_sensors.*').drop('nearby_sensors')"
   ]
  },
  {
   "cell_type": "code",
   "execution_count": 7,
   "id": "664dc0d1-86e6-4ec6-b272-f2496813bb9d",
   "metadata": {},
   "outputs": [],
   "source": [
    "df_recent_speed = df_extracted.withColumn('recent_speeds',explode(col('recent_speeds')))"
   ]
  },
  {
   "cell_type": "code",
   "execution_count": 8,
   "id": "2a27e0ee-97f0-4c92-8984-989f3a4a3e97",
   "metadata": {},
   "outputs": [],
   "source": [
    "final_df = df_recent_speed.withColumn('lat',col('location.lat'))\\\n",
    "                    .withColumn('lon',col('location.lon')).drop('location') \\\n",
    "                        .select('vehicle_id','speed_kmh','recent_speeds','road_id','sensor_id','signal_strength','lat','lon','timestamp')\\\n",
    "                            .withColumnRenamed('timestamp','time')"
   ]
  },
  {
   "cell_type": "code",
   "execution_count": null,
   "id": "ce10eb02-a0c6-4315-b97e-aee243b57ee7",
   "metadata": {},
   "outputs": [],
   "source": [
    "from dotenv import load_dotenv\n",
    "import os\n",
    "\n",
    "load_dotenv('secret.env')  \n",
    "\n",
    "URL = os.getenv(\"DATABASE_URL\")\n",
    "USER = os.getenv(\"USERNAME\")\n",
    "PASSWORD = os.getenv(\"PASS\")\n",
    "\n",
    "\n",
    "def write_to_mysql(df,batch_id):\n",
    "\n",
    "    df.write.format('jdbc') \\\n",
    "            .option('url',f'{URL}') \\\n",
    "                .option('dbtable','vehicle_data') \\\n",
    "                    .option('user',f'{USER}') \\\n",
    "                        .option('password',f'{PASSWORD}') \\\n",
    "                            .option('driver','com.mysql.cj.jdbc.Driver') \\\n",
    "                                .mode('append') \\\n",
    "                                    .save()\n",
    "    \n",
    "\n",
    "query = final_df.writeStream \\\n",
    "    .foreachBatch(write_to_mysql) \\\n",
    "    .outputMode(\"append\")  \\\n",
    "    .option('checkpointLocation','/tmp/checkpoint_stream') \\\n",
    "    .trigger(processingTime='5 second') \\\n",
    "    .start()\n",
    "\n",
    "query.awaitTermination()\n",
    "    "
   ]
  },
  {
   "cell_type": "code",
   "execution_count": null,
   "id": "b1237fca-f45e-41b0-8e7a-a4368468f08f",
   "metadata": {},
   "outputs": [],
   "source": []
  },
  {
   "cell_type": "code",
   "execution_count": null,
   "id": "da03d3d6-ffd8-47ba-99e2-343c2b3b6839",
   "metadata": {},
   "outputs": [],
   "source": []
  }
 ],
 "metadata": {
  "kernelspec": {
   "display_name": "Python 3 (ipykernel)",
   "language": "python",
   "name": "python3"
  },
  "language_info": {
   "codemirror_mode": {
    "name": "ipython",
    "version": 3
   },
   "file_extension": ".py",
   "mimetype": "text/x-python",
   "name": "python",
   "nbconvert_exporter": "python",
   "pygments_lexer": "ipython3",
   "version": "3.10.6"
  }
 },
 "nbformat": 4,
 "nbformat_minor": 5
}
